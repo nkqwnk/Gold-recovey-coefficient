{
 "cells": [
  {
   "cell_type": "markdown",
   "id": "54b1adbd",
   "metadata": {},
   "source": [
    "# Предсказание коэффициента восстановления золота из руды"
   ]
  },
  {
   "cell_type": "markdown",
   "id": "e964ab92",
   "metadata": {},
   "source": [
    "В ходе данного проекта будут использоваться реальные данные, предоставленные компанией \"Цифра\". В результате работы будет построена модель, которая должна будет предсказать коэффициент восстановления золота из золотосодержащей руды. В нашем распоряжении данные с параметрами добычи и очистки золотосодержащей руды, уже разбитые на тренировочную и тестовую выборку, также имеется и полный набор данных, содержащий обе упомянутые выборки. В процессе работы будет произведена подготовка и анализ \"сырых\" данных и создание модели обучения. "
   ]
  },
  {
   "cell_type": "markdown",
   "id": "5e2dce89",
   "metadata": {},
   "source": [
    "## Некоторая информация о данных"
   ]
  },
  {
   "cell_type": "markdown",
   "id": "bdcb3307",
   "metadata": {},
   "source": [
    "Данные индексируются датой и временем получения информации (признак date). Соседние по времени параметры часто похожи.<br>\n",
    "Некоторые параметры недоступны, потому что замеряются и/или рассчитываются значительно позже. Из-за этого в тестовой выборке отсутствуют некоторые признаки, которые могут быть в обучающей. Также в тестовом наборе нет целевых признаков.<br>\n",
    "Проведем **описание данных**:<br>\n",
    "**Технологический процесс**<br>\n",
    "Rougher feed — исходное сырье<br>\n",
    "Rougher additions (или reagent additions) — флотационные реагенты: Xanthate, Sulphate, Depressant<br>\n",
    "Xanthate — ксантогенат (промотер, или активатор флотации);<br>\n",
    "Sulphate — сульфат (на данном производстве сульфид натрия);<br>\n",
    "Depressant — депрессант (силикат натрия).<br>\n",
    "Rougher process (англ. «грубый процесс») — флотация<br>\n",
    "Rougher tails — отвальные хвосты<br>\n",
    "Float banks — флотационная установка<br>\n",
    "Cleaner process — очистка<br>\n",
    "Rougher Au — черновой концентрат золота<br>\n",
    "Final Au — финальный концентрат золота<br>\n",
    "**Параметры этапов**<br>\n",
    "air amount — объём воздуха<br>\n",
    "fluid levels — уровень жидкости<br>\n",
    "feed size — размер гранул сырья<br>\n",
    "feed rate — скорость подачи<br>\n",
    "**Расшифруем название признаков:**<br>\n",
    "[этап].[тип_параметра].[название_параметра]<br>\n",
    "Пример: rougher.input.feed_ag<br>\n",
    "Возможные значения для блока [этап]:<br>\n",
    "rougher — флотация<br>\n",
    "primary_cleaner — первичная очистка<br>\n",
    "secondary_cleaner — вторичная очистка<br>\n",
    "final — финальные характеристики<br>\n",
    "Возможные значения для блока [тип_параметра]:<br>\n",
    "input — параметры сырья<br>\n",
    "output — параметры продукта<br>\n",
    "state — параметры, характеризующие текущее состояние этапа<br>\n",
    "calculation — расчётные характеристики<br>"
   ]
  },
  {
   "cell_type": "markdown",
   "id": "38d14650",
   "metadata": {},
   "source": [
    "В качестве **метрики качества** будем использовать **sMAPE**. Нужно спрогнозировать сразу две величины:<br>\n",
    "эффективность обогащения чернового концентрата rougher.output.recovery<br>\n",
    "эффективность обогащения финального концентрата final.output.recovery<br>\n",
    "Итоговая метрика складывается из двух величин:\n",
    "$$sMAPE = 0.25 * sMAPE(rougher) + 0.75 * sMAPE(final)$$"
   ]
  },
  {
   "cell_type": "markdown",
   "id": "1396a69e",
   "metadata": {},
   "source": [
    "## 1. Подготовка данных"
   ]
  },
  {
   "cell_type": "markdown",
   "id": "649beaa2",
   "metadata": {},
   "source": [
    "### 1.1 Загрузка, обзор и предобработка данных"
   ]
  },
  {
   "cell_type": "markdown",
   "id": "ca711d48",
   "metadata": {},
   "source": [
    "Сперва подключим необходимые в дальнейшей работе библиотеки:"
   ]
  },
  {
   "cell_type": "code",
   "execution_count": null,
   "id": "85a7f935",
   "metadata": {},
   "outputs": [],
   "source": [
    "import pandas as pd\n",
    "import numpy as np\n",
    "try:\n",
    "    import missingno as msno  \n",
    "except:\n",
    "    !pip install missingno\n",
    "    import missingno as msno \n",
    "from sklearn.metrics import mean_absolute_error\n",
    "from plotly.subplots import make_subplots\n",
    "import plotly.graph_objects as go\n",
    "import plotly.express as px\n",
    "from sklearn.metrics import make_scorer\n",
    "from sklearn.model_selection import cross_val_score\n",
    "from sklearn.model_selection import GridSearchCV\n",
    "from sklearn.linear_model import LinearRegression\n",
    "from sklearn.tree import DecisionTreeRegressor\n",
    "from sklearn.ensemble import RandomForestRegressor\n",
    "from sklearn.dummy import DummyRegressor"
   ]
  },
  {
   "cell_type": "markdown",
   "id": "88129c2d",
   "metadata": {},
   "source": [
    "Теперь загрузим наши данные:"
   ]
  },
  {
   "cell_type": "code",
   "execution_count": null,
   "id": "978e0a6a",
   "metadata": {},
   "outputs": [],
   "source": [
    "try:\n",
    "    gold_recovery_full = pd.read_csv('gold_recovery_full_new.csv')\n",
    "except:\n",
    "    gold_recovery_full = pd.read_csv('/datasets/gold_recovery_full_new.csv')\n",
    "    \n",
    "try:\n",
    "    gold_recovery_train = pd.read_csv('gold_recovery_train_new.csv')\n",
    "except:\n",
    "    gold_recovery_train = pd.read_csv('/datasets/gold_recovery_train_new.csv')\n",
    "    \n",
    "try:\n",
    "    gold_recovery_test = pd.read_csv('gold_recovery_test_new.csv')\n",
    "except:\n",
    "    gold_recovery_test = pd.read_csv('/datasets/gold_recovery_test_new.csv')"
   ]
  },
  {
   "cell_type": "markdown",
   "id": "244f085f",
   "metadata": {},
   "source": [
    "Проведем **первичный обзор** данных. Сперва настроим вывод - пусть при выводе отображается максимальное количество столбцов и строк:"
   ]
  },
  {
   "cell_type": "code",
   "execution_count": null,
   "id": "2336aff7",
   "metadata": {},
   "outputs": [],
   "source": [
    "pd.set_option('display.max_columns', None)\n",
    "pd.set_option('display.max_rows', None)"
   ]
  },
  {
   "cell_type": "markdown",
   "id": "9f3629a6",
   "metadata": {},
   "source": [
    "Теперь выведем первые 5 строк каждого датафрейма и его размеры."
   ]
  },
  {
   "cell_type": "code",
   "execution_count": null,
   "id": "45fe1ea9",
   "metadata": {},
   "outputs": [],
   "source": [
    "datasets = [gold_recovery_full, gold_recovery_train, gold_recovery_test]\n",
    "datasets_string = ['gold_recovery_full', 'gold_recovery_train', 'gold_recovery_test']\n",
    "\n",
    "for i in range(len(datasets)):\n",
    "    print(f'Первые 5 строк набора {datasets_string[i]}:')\n",
    "    display(datasets[i].head())\n",
    "    display(datasets[i].shape)\n",
    "    display()"
   ]
  },
  {
   "cell_type": "markdown",
   "id": "d2fc758c",
   "metadata": {},
   "source": [
    "Как можно убедиться, сумма строк обучающей и тестовой выборки действительно равняется количеству строк в исходном датафрейме. Кроме того, в тестовой выборке содержится на 34 столбца меньше, чем в предыдущих двух наборах. Чуть позже по ходу исследования узнаем, каких строк \"лишилась\" эта выборка."
   ]
  },
  {
   "cell_type": "markdown",
   "id": "8fc7b74c",
   "metadata": {},
   "source": [
    "Проверим данные на наличие дубликатов:"
   ]
  },
  {
   "cell_type": "code",
   "execution_count": null,
   "id": "b44cc44a",
   "metadata": {},
   "outputs": [],
   "source": [
    "for i in range(len(datasets)):\n",
    "    print(f'Число дубликатов в {datasets_string[i]} - {datasets[i].duplicated().sum()}')\n",
    "    print()"
   ]
  },
  {
   "cell_type": "markdown",
   "id": "3d420bac",
   "metadata": {},
   "source": [
    "Видим, что наши наборы не содержат в себе дубликатов."
   ]
  },
  {
   "cell_type": "markdown",
   "id": "3b43b635",
   "metadata": {},
   "source": [
    "Теперь уточним, какой тип данных используется для записи информации о каждом столбце наших датафреймов:"
   ]
  },
  {
   "cell_type": "code",
   "execution_count": null,
   "id": "46665961",
   "metadata": {},
   "outputs": [],
   "source": [
    "for i in range(len(datasets)):\n",
    "    print(f'Тип данных для каждого столбца из датафрейма {datasets_string[i]}')\n",
    "    print(datasets[i].dtypes)\n",
    "    print()"
   ]
  },
  {
   "cell_type": "markdown",
   "id": "8ab65caa",
   "metadata": {},
   "source": [
    "Как видим, параметр 'date' имеет тип object. Для удобства переведем его в datetime:"
   ]
  },
  {
   "cell_type": "code",
   "execution_count": null,
   "id": "5cb82d0b",
   "metadata": {
    "scrolled": true
   },
   "outputs": [],
   "source": [
    "gold_recovery_full['date'] = pd.to_datetime(gold_recovery_full['date'], format='%Y-%m-%d %H:%M:%S')\n",
    "gold_recovery_train['date'] = pd.to_datetime(gold_recovery_train['date'], format='%Y-%m-%d %H:%M:%S')\n",
    "gold_recovery_test['date'] = pd.to_datetime(gold_recovery_test['date'], format='%Y-%m-%d %H:%M:%S')"
   ]
  },
  {
   "cell_type": "markdown",
   "id": "19b9eb07",
   "metadata": {},
   "source": [
    "Более того, будем использовать этот столбец как индекс для каждого датафрейма:"
   ]
  },
  {
   "cell_type": "code",
   "execution_count": null,
   "id": "cdbc1dda",
   "metadata": {
    "scrolled": true
   },
   "outputs": [],
   "source": [
    "gold_recovery_full = gold_recovery_full.set_index('date')\n",
    "gold_recovery_train= gold_recovery_train.set_index('date')\n",
    "gold_recovery_test = gold_recovery_test.set_index('date')"
   ]
  },
  {
   "cell_type": "markdown",
   "id": "e0b2eec5",
   "metadata": {},
   "source": [
    "Теперь взглянем на ситуацию с пропусками в данных с помощью средств библиотеки missingno. Сперва оценим общее количество пропусков в исходных данных, затем - в обучающей и тестовой выборке по-отдельности:"
   ]
  },
  {
   "cell_type": "code",
   "execution_count": null,
   "id": "9733398c",
   "metadata": {},
   "outputs": [],
   "source": [
    "print('gold_recovery_full:')\n",
    "msno.bar(gold_recovery_full, figsize = (15,30))"
   ]
  },
  {
   "cell_type": "code",
   "execution_count": null,
   "id": "31b05cbd",
   "metadata": {},
   "outputs": [],
   "source": [
    "print('gold_recovery_train:')\n",
    "msno.bar(gold_recovery_train, figsize = (15,30))"
   ]
  },
  {
   "cell_type": "code",
   "execution_count": null,
   "id": "c802078c",
   "metadata": {},
   "outputs": [],
   "source": [
    "print('gold_recovery_test:')\n",
    "msno.bar(gold_recovery_test, figsize = (15,20))"
   ]
  },
  {
   "cell_type": "markdown",
   "id": "80bc4a80",
   "metadata": {},
   "source": [
    "Похоже, что наши данные содержат сравнительно немного пропущенных значений. Кроме того, складывается впечатление, что в исходном и обучающем наборе данных пропусков больше, чем в тестовом.<br> \n",
    "Понять насколько данные подвержены пропускам очень важно для любого аналитического исследования, поэтому рассмотрим пропущенные значения подробнее. Напишем функцию, получающую на вход датафрейм и возвращающую Series, индексами которой являются 10 столбцов с наибольшим числом пропусков из этого датафрейма, а значениями - доля пропусков в этих столбцах: "
   ]
  },
  {
   "cell_type": "code",
   "execution_count": null,
   "id": "cbe6a269",
   "metadata": {},
   "outputs": [],
   "source": [
    "def columns_w_most_na (df):\n",
    "    missed_values = []\n",
    "    for i in range(len(df.columns)):\n",
    "        missed_values.append(df[df.columns[i]].isna().sum())\n",
    "    missed_values_ser = pd.Series(data=missed_values, index=df.columns)\n",
    "    missed_values_ser = missed_values_ser.sort_values(ascending=False).head(10)\n",
    "    missed_values_ser = missed_values_ser / len(df)\n",
    "    return missed_values_ser"
   ]
  },
  {
   "cell_type": "markdown",
   "id": "961da0f2",
   "metadata": {},
   "source": [
    "Применим функцию к каждому из датафреймов:"
   ]
  },
  {
   "cell_type": "code",
   "execution_count": null,
   "id": "1f905234",
   "metadata": {
    "scrolled": true
   },
   "outputs": [],
   "source": [
    "for i in range(len(datasets)):\n",
    "    print(f'Доля пропусков в столбцах с наибольшим количеством пропущенных значений в наборе {datasets_string[i]}:')\n",
    "    print(columns_w_most_na(datasets[i]))\n",
    "    print()"
   ]
  },
  {
   "cell_type": "markdown",
   "id": "2267ddcf",
   "metadata": {},
   "source": [
    "Видим, что наше предположение оказалось адекватным данным - в изначальном и обучающем наборе пропусков в относительных значениях действительно больше, чем в тестовом наборе. Больше всего их в исходных данных в столбце 'secondary_cleaner.output.tail_sol' - почти 9%. Следующие за ним в топе столбцы имеют пропусков в разы меньше. В обучающем датафрейме тот же столбец лидирует по доле пропусков - 11% (доля выросла из-за самого принципа формирования обучающей выборки). По остальным столбцам наблюдается примерно та же динамика, что и в исходном наборе. Тестовая же выборка содержит очень мало пропусков - чуть меньше половины процента для наибольшего по пропускам столбца, дальше - еще меньше."
   ]
  },
  {
   "cell_type": "markdown",
   "id": "2d91066f",
   "metadata": {},
   "source": [
    "Посмотрим сколько столбцов в получившихся топах совпадают и какие это столбцы. Для этого напишем функцию, аргументами которой будут датафреймы. В процессе своей работы она будет с помощью написанной ранее функции получать топы столбцов по числу пропусков, а затем создавать список из тех столбцов, которые встречаются в обоих топах:"
   ]
  },
  {
   "cell_type": "code",
   "execution_count": null,
   "id": "4dd1e9cc",
   "metadata": {},
   "outputs": [],
   "source": [
    "def shared_columns_most_na (df_1, df_2): \n",
    "    top_na_columns_1 = columns_w_most_na(df_1)\n",
    "    top_na_columns_2 = columns_w_most_na(df_2)\n",
    "    shared_columns = [column for column in top_na_columns_1.index if column in top_na_columns_2.index]\n",
    "    return shared_columns"
   ]
  },
  {
   "cell_type": "markdown",
   "id": "dedb2bd5",
   "metadata": {},
   "source": [
    "Применим функцию к нашим наборам:"
   ]
  },
  {
   "cell_type": "code",
   "execution_count": null,
   "id": "d985306c",
   "metadata": {
    "scrolled": true
   },
   "outputs": [],
   "source": [
    "for i in range(len(datasets)):    \n",
    "    print(f'В {datasets_string[i]} и {datasets_string[i-1]} в топе по числу пропусков совпадают столбцы \\\n",
    "{shared_columns_most_na(datasets[i], datasets[i-1])}, всего их \\\n",
    "{len(shared_columns_most_na(datasets[i], datasets[i-1]))}.')\n",
    "    print()"
   ]
  },
  {
   "cell_type": "markdown",
   "id": "227a053c",
   "metadata": {},
   "source": [
    "Как видим, топы столбцов по пропускам в исходных данных и обучающей выборке совпадают на 90%, что ожидаемо. Также, совпадают на 30% топы исходных данных (обучающей выборки) и тестовых данных."
   ]
  },
  {
   "cell_type": "markdown",
   "id": "b09a75d9",
   "metadata": {},
   "source": [
    "Также проведем визуальную оценку местонахождения пропущенных значений в столбцах с самой высокой долей пропусков с помощью уже использовавшейся библиотеки missingno:"
   ]
  },
  {
   "cell_type": "code",
   "execution_count": null,
   "id": "f11a0b71",
   "metadata": {},
   "outputs": [],
   "source": [
    "print('gold_recovery_full:')\n",
    "msno.matrix(gold_recovery_full[columns_w_most_na(gold_recovery_full).index])"
   ]
  },
  {
   "cell_type": "code",
   "execution_count": null,
   "id": "093aa162",
   "metadata": {},
   "outputs": [],
   "source": [
    "print('gold_recovery_train:')\n",
    "msno.matrix(gold_recovery_train[columns_w_most_na(gold_recovery_train).index])"
   ]
  },
  {
   "cell_type": "code",
   "execution_count": null,
   "id": "43726568",
   "metadata": {},
   "outputs": [],
   "source": [
    "print('gold_recovery_test:')\n",
    "msno.matrix(gold_recovery_test[columns_w_most_na(gold_recovery_test).index])"
   ]
  },
  {
   "cell_type": "markdown",
   "id": "5697d60f",
   "metadata": {},
   "source": [
    "Видим, что в исходной и тренировочной выборках в столбце 'secondary_cleaner.output.tail_sol' пропуски локализованы в нижней части датафрейма, то есть, находятся среди последних доступных нам по дате данных. Локализация пропусков наблюдается и в столбце 'rougher.state.floatbank10_e_air' - пробелы расположены в нижней трети данных. В районе середины периода наблюдений находятся пропуски столбца 'rougher.input.floatbank11_xanthate', более-менее равномерно распределены по данным пропуски в столбце 'primary_cleaner.output.concentrate_sol'. В столбце 'final.output.concentrate_sol' пропуски наблюдаются на начальном периоде.<br>\n",
    "Также в тренировочной выборке видим примерно одну область концентрации пропусков для столбцов 'rougher.input.feed_pb' и 'final.output.tail_pb' (для последнего признака область пропусков совпадает и с исходным набором).<br>\n",
    "В тестовой выборке пропуски выглядят менее скученно, кажется, будто их распределение по столбцам более случайно.<br>\n",
    "Вероятно, стоит уточнить у заказчика, по каким причинам ситуация с пропусками может выглядеть именно так, в исходной и обучающей выборках их локализация в некоторых столбцах выглядит неслучайно. "
   ]
  },
  {
   "cell_type": "markdown",
   "id": "1886f756",
   "metadata": {},
   "source": [
    "От визуальной оценки пропусков перейдем к их обработке. Для имеющихся обучающих и тестовых выборок представляются удачными два способа обработки пропусков - удаление и заполнение вдоль строк. Второй способ имеет смысл, так как из ТЗ мы знаем, что \"Соседние по времени параметры часто похожи\", поэтому мы можем использовать предыдущее знеачение параметра для заполнения следующего за ним пропуска. Выберем второй способ, так как он представляется более подходящим нашим данным:"
   ]
  },
  {
   "cell_type": "code",
   "execution_count": null,
   "id": "9bbf295c",
   "metadata": {},
   "outputs": [],
   "source": [
    "gold_recovery_train = gold_recovery_train.fillna(method='ffill')\n",
    "gold_recovery_test = gold_recovery_test.fillna(method='ffill')"
   ]
  },
  {
   "cell_type": "markdown",
   "id": "39f9f240",
   "metadata": {},
   "source": [
    "### 1.2 Проверка правильности рассчета эффективности обогащения"
   ]
  },
  {
   "cell_type": "markdown",
   "id": "7ceea3d8",
   "metadata": {},
   "source": [
    "Удостоверимся, что эффективность обогащения рассчитана верно. Заново вычислим её на обучающей выборке для признака rougher.output.recovery, после чего рассчитаем MAE между вашими расчётами и значением признака."
   ]
  },
  {
   "cell_type": "markdown",
   "id": "6ae0e7e0",
   "metadata": {},
   "source": [
    "Начнем с написания функции, рассчитывающей эффективность обогащения:"
   ]
  },
  {
   "cell_type": "code",
   "execution_count": null,
   "id": "bcb5cc23",
   "metadata": {},
   "outputs": [],
   "source": [
    "def recovery (c, f, t):\n",
    "    return ((c * (f - t)) / (f * (c - t))) * 100"
   ]
  },
  {
   "cell_type": "markdown",
   "id": "8f28115f",
   "metadata": {},
   "source": [
    "Заведем необходимые для рассчетов переменные:"
   ]
  },
  {
   "cell_type": "code",
   "execution_count": null,
   "id": "cb83f410",
   "metadata": {},
   "outputs": [],
   "source": [
    "recovery_train_target = gold_recovery_train['rougher.output.recovery']\n",
    "с_train = gold_recovery_train['rougher.output.concentrate_au']\n",
    "f_train = gold_recovery_train['rougher.input.feed_au']\n",
    "t_train = gold_recovery_train['rougher.output.tail_au']"
   ]
  },
  {
   "cell_type": "markdown",
   "id": "0a01e335",
   "metadata": {},
   "source": [
    "Рассчитаем эффективность обогащения:"
   ]
  },
  {
   "cell_type": "code",
   "execution_count": null,
   "id": "59551938",
   "metadata": {
    "scrolled": false
   },
   "outputs": [],
   "source": [
    "recovery_train_calculated = recovery(с_train, f_train, t_train)"
   ]
  },
  {
   "cell_type": "markdown",
   "id": "91c4f20d",
   "metadata": {},
   "source": [
    "Теперь рассчитаем метрику MAE:"
   ]
  },
  {
   "cell_type": "code",
   "execution_count": null,
   "id": "fac42741",
   "metadata": {},
   "outputs": [],
   "source": [
    "mae_recovery_train = mean_absolute_error(recovery_train_target, recovery_train_calculated)\n",
    "print(f'Метрика MAE равна {mae_recovery_train}')"
   ]
  },
  {
   "cell_type": "markdown",
   "id": "eb061d40",
   "metadata": {},
   "source": [
    "Видим, что MAE находится в нуле, что значит, что эффективность обогащения для признака rougher.output.recovery рассчитана правильно. "
   ]
  },
  {
   "cell_type": "markdown",
   "id": "e54ef166",
   "metadata": {},
   "source": [
    "### 1.3 Анализ признаков, недоступных в тестовой выборке"
   ]
  },
  {
   "cell_type": "markdown",
   "id": "49d1af05",
   "metadata": {},
   "source": [
    "Посмотрим, какие столбцы, имеющиеся в исходных данных, отсутствуют в тестовой выборке:"
   ]
  },
  {
   "cell_type": "code",
   "execution_count": null,
   "id": "5ebc52b7",
   "metadata": {},
   "outputs": [],
   "source": [
    "missed_test_columns = [column for column in gold_recovery_train.columns if column not in gold_recovery_test.columns]\n",
    "print(missed_test_columns)"
   ]
  },
  {
   "cell_type": "markdown",
   "id": "0bae1e08",
   "metadata": {},
   "source": [
    "Эти столбцы-признаки, во-первых, содержат в себе параметры получившегося продукта для этапов флотации, первичной и вторичной очистки, финального продукта. Сами параметры включают в себя долю серебра (ag), свинца (pb), sol (кажется, что это коллоидный раствор), золота (au) после каждого этапа; долю тех же элементов в отвальных хвостах; эффективность обогащения. Во-вторых, они содержат в себе расчетные характеристики для этапа флотации, а именно - концентрацию сульфата (sulfate, сульфида натрия) по отношению к золоту, отношение сульфата к золоту во флотационных установках 10 и 11 для сырья, отношение золота к свинцу. "
   ]
  },
  {
   "cell_type": "markdown",
   "id": "e8cbb60e",
   "metadata": {},
   "source": [
    "## 2. Анализ данных"
   ]
  },
  {
   "cell_type": "markdown",
   "id": "26a0c0da",
   "metadata": {},
   "source": [
    "### 2.1 Анализ концентрации металлов на различных этапах отчистки"
   ]
  },
  {
   "cell_type": "markdown",
   "id": "0d139547",
   "metadata": {},
   "source": [
    "Проанализируем основные статистики, касающиеся концентрации каждого металла на этапах очистки, сделаем некоторые заключения о распределении соответствующих значений."
   ]
  },
  {
   "cell_type": "markdown",
   "id": "4b9a79e6",
   "metadata": {},
   "source": [
    "Сперва создадим список с названиями признаков на каждом из этапов отчистки (rougher, primary_cleaner, secondary_cleaner, final), а затем на его основе создадим списки с названиями признаков для каждого металла по-отдельности:"
   ]
  },
  {
   "cell_type": "code",
   "execution_count": null,
   "id": "5f221aeb",
   "metadata": {},
   "outputs": [],
   "source": [
    "metal_concentrate_cols = ['rougher.input.feed_au', 'rougher.input.feed_ag', 'rougher.input.feed_pb', \n",
    "                    'rougher.output.concentrate_au', 'rougher.output.concentrate_ag', 'rougher.output.concentrate_pb', \n",
    "                    'primary_cleaner.output.concentrate_au', 'primary_cleaner.output.concentrate_ag', \n",
    "                    'primary_cleaner.output.concentrate_pb', 'final.output.concentrate_au', 'final.output.concentrate_ag', \n",
    "                    'final.output.concentrate_pb']\n",
    "\n",
    "au_concentrate_cols = [col for col in metal_concentrate_cols if 'au' in col]\n",
    "ag_concentrate_cols = [col for col in metal_concentrate_cols if 'ag' in col]\n",
    "pb_concentrate_cols = [col for col in metal_concentrate_cols if 'pb' in col]"
   ]
  },
  {
   "cell_type": "markdown",
   "id": "6193544f",
   "metadata": {},
   "source": [
    "Теперь, с помощью метода describe() просмотрим статистики по каждому из металлов на разных этапах обработки, а с помощью средств библиотеки plotly создадим ящики с усами. Выставим для них ограничения по оси y, чтобы лучше видеть основную часть графика. Чтобы увидеть выбросы, можно воспользоваться меню в правом верхнем углу графика (инструменты Zoom in, Zoom out) и возможностью курсором выделять область на графике, которую хочется рассмотреть детальнее."
   ]
  },
  {
   "cell_type": "code",
   "execution_count": null,
   "id": "07a10d56",
   "metadata": {
    "scrolled": true
   },
   "outputs": [],
   "source": [
    "gold_recovery_train[au_concentrate_cols].describe()"
   ]
  },
  {
   "cell_type": "code",
   "execution_count": null,
   "id": "ca480cec",
   "metadata": {},
   "outputs": [],
   "source": [
    "fig = px.box(gold_recovery_train[au_concentrate_cols], y=au_concentrate_cols, \n",
    "            title='Распределение концентрации золота на каждом этапе очистки')\n",
    "fig.update_yaxes(range=[2,51.5])\n",
    "fig.show()"
   ]
  },
  {
   "cell_type": "markdown",
   "id": "a59fb6bf",
   "metadata": {},
   "source": [
    "Как и должно быть, с каждым новым этапом среднее содержание золота повышается. Распределение значений нормальное с очень небольшой скошенностью влево на последних трех этапах. Данные достаточно плотно сконцентрированны вокруг среднего, о чем говорит относительно небольшое значение стандартного отклонения и небольшой размер интервала между нижним и верхним квартилем. "
   ]
  },
  {
   "cell_type": "code",
   "execution_count": null,
   "id": "a66e1a07",
   "metadata": {
    "scrolled": true
   },
   "outputs": [],
   "source": [
    "gold_recovery_train[ag_concentrate_cols].describe()"
   ]
  },
  {
   "cell_type": "code",
   "execution_count": null,
   "id": "1f375bc8",
   "metadata": {},
   "outputs": [],
   "source": [
    "fig = px.box(gold_recovery_train[ag_concentrate_cols], y=ag_concentrate_cols, \n",
    "            title='Распределение концентрации серебра на каждом этапе очистки')\n",
    "fig.update_yaxes(range=[1,19])\n",
    "fig.show()"
   ]
  },
  {
   "cell_type": "markdown",
   "id": "3dae01e8",
   "metadata": {},
   "source": [
    "С серебром ситуация несколько иная. Мы видим увеличение его концентрации после этапа флотации, а затем происходит ее постепенное уменьшение на следующих этапах очистки. Схожая динамика наблюдается и на максимальных значениях концентрации на каждом из этапов. Наблюдается небольшая общая скошенность данных вправо. "
   ]
  },
  {
   "cell_type": "code",
   "execution_count": null,
   "id": "69cd1d3e",
   "metadata": {
    "scrolled": true
   },
   "outputs": [],
   "source": [
    "gold_recovery_train[pb_concentrate_cols].describe()"
   ]
  },
  {
   "cell_type": "code",
   "execution_count": null,
   "id": "e083e020",
   "metadata": {},
   "outputs": [],
   "source": [
    "fig = px.box(gold_recovery_train[pb_concentrate_cols], y=pb_concentrate_cols, \n",
    "            title='Распределение концентрации свинца на каждом этапе очистки')\n",
    "fig.update_yaxes(range=[0,16.5])\n",
    "fig.show()"
   ]
  },
  {
   "cell_type": "markdown",
   "id": "6f944a1a",
   "metadata": {},
   "source": [
    "Динамика изменения значений среднего для концентрации свинца схожа направлением с той же динамикой для золота, однако скорость роста явно меньше. Иными словами, концентрация свинца на каждом этапе несильно растет. Последние два этапа характеризуются почти одинаковым значением медианы при сужающемся на финальном этапе межквартильном размахе - данные сильнее \"скучковались\" вокруг средних значений. Разброс данных так же не очень велик, выраженной скошенности не наблюдается. "
   ]
  },
  {
   "cell_type": "markdown",
   "id": "b01aa945",
   "metadata": {},
   "source": [
    "### 2.2 Сравнение распределений размеров гранул сырья на обучающей и тестовой выборках"
   ]
  },
  {
   "cell_type": "markdown",
   "id": "c03b28b7",
   "metadata": {},
   "source": [
    "Информация о размере гранул сырья находится в столбце 'rougher.input.feed_size'. Сохраним информацию о значениях этого признака в обучающей и тестовой выборках в соответствующих переменных:"
   ]
  },
  {
   "cell_type": "code",
   "execution_count": null,
   "id": "9b6ba570",
   "metadata": {},
   "outputs": [],
   "source": [
    "feed_size_train = gold_recovery_train['rougher.input.feed_size']\n",
    "feed_size_test = gold_recovery_test['rougher.input.feed_size']"
   ]
  },
  {
   "cell_type": "markdown",
   "id": "f4209cb8",
   "metadata": {},
   "source": [
    "Теперь, средствами библиотеки plotly построим для этих данных ящики с усами, дополнительно отобразив на них среднее значение (пунктир):"
   ]
  },
  {
   "cell_type": "code",
   "execution_count": null,
   "id": "da4fc514",
   "metadata": {},
   "outputs": [],
   "source": [
    "fig = make_subplots(rows=1, cols=2)\n",
    "\n",
    "fig.append_trace(go.Box(\n",
    "   y=feed_size_train.tolist(),\n",
    "    name='Обучающая выборка',\n",
    "    boxmean=True,\n",
    "), row=1, col=1)\n",
    "\n",
    "fig.append_trace(go.Box(\n",
    "   y=feed_size_test.tolist(),\n",
    "    name='Тестовая выборка',\n",
    "    boxmean=True,\n",
    "), row=1, col=2)\n",
    "\n",
    "fig.update_yaxes(range=[20,95])\n",
    "fig.update_layout(title_text='Распределения размеров гранул сырья на обучающей и тестовой выборке')\n",
    "fig.show()"
   ]
  },
  {
   "cell_type": "markdown",
   "id": "bf87503f",
   "metadata": {},
   "source": [
    "Видим, что обра набора данных распределены похожим образом. Медианные значения обучающей и тестовой выборки - 55 и 50 соответственно, средние значения 60 и 55. Таким образом, медиана и среднее обоих распределений не выходят за пределы межквартильного размаха друг друга. Налицо также положительная асимметрия в данных (среднее в обоих случаях превосходит медиану). Интервал, задаваемый нижним и верхним усами у обоих графиков почти идентичен - [24,92] для обучающей выборки, [25,90] для тестовой. Интервал же межквартильного размаха для обучающей и тестовой выборок - [49,66] и [44,62]. Если рассмотреть размах выбросов, то для обучающей выборки он несколько сдвинут вверх - [10,485] против [0,392] у тестовой выборки. Большая часть выбросов обоих распределений, таким образом, располагается выше верхнего уса. Итак, проанализировав графики, скажем, что **распределения отличаются друг от друга не сильно**."
   ]
  },
  {
   "cell_type": "markdown",
   "id": "15f11e94",
   "metadata": {},
   "source": [
    "### 2.3 Исследование суммарной концентрации всех веществ на разных стадиях"
   ]
  },
  {
   "cell_type": "markdown",
   "id": "0db11c38",
   "metadata": {},
   "source": [
    "Рассмотрим общую концентрацию всех веществ в сырье, в черновом и финальном концентратах (по ТЗ)."
   ]
  },
  {
   "cell_type": "markdown",
   "id": "248c2cfc",
   "metadata": {},
   "source": [
    "Для начала соберем список необходимых признаков. В качестве веществ рассмотрим золото (au), серебро (ag), свинец (pb) и sol. Необходимые нам этапы и типы параметров - rougher.input (сырье), rougher.output (черновой концентрат) и final.output (финальный концентрат). Соберем соответствующие названия столбцов в общий список и в списки, соответствующие каждому этапу:"
   ]
  },
  {
   "cell_type": "code",
   "execution_count": null,
   "id": "85a34d2d",
   "metadata": {},
   "outputs": [],
   "source": [
    "matter_concentrate_cols = ['rougher.input.feed_au', 'rougher.input.feed_ag', 'rougher.input.feed_pb', \n",
    "                           'rougher.input.feed_sol', 'rougher.output.concentrate_au', 'rougher.output.concentrate_ag', \n",
    "                           'rougher.output.concentrate_pb', 'rougher.output.concentrate_sol', \n",
    "                           'final.output.concentrate_au',  'final.output.concentrate_ag', \n",
    "                           'final.output.concentrate_pb', 'final.output.concentrate_sol']\n",
    "\n",
    "rougher_input_cols = ['rougher.input.feed_au', 'rougher.input.feed_ag', 'rougher.input.feed_pb', 'rougher.input.feed_sol']\n",
    "rougher_output_cols = ['rougher.output.concentrate_au', 'rougher.output.concentrate_ag', 'rougher.output.concentrate_pb', \n",
    "                       'rougher.output.concentrate_sol']\n",
    "final_output_cols = ['final.output.concentrate_au',  'final.output.concentrate_ag', 'final.output.concentrate_pb', \n",
    "                     'final.output.concentrate_sol']"
   ]
  },
  {
   "cell_type": "markdown",
   "id": "dd5379b6",
   "metadata": {},
   "source": [
    "Теперь создадим новый датафрейм, полученный из обучающей выборки по названиям нужных столбцов, просуммируем значения столбцов для каждого этапа и полученное значение запишем в новый столбец, после удалив столбцы-слагаемые:"
   ]
  },
  {
   "cell_type": "code",
   "execution_count": null,
   "id": "565bf6e6",
   "metadata": {},
   "outputs": [],
   "source": [
    "matter_concentrate = gold_recovery_train[matter_concentrate_cols].copy()\n",
    "\n",
    "matter_concentrate['rougher.input.sum'] = matter_concentrate[rougher_input_cols].sum(axis=1)\n",
    "#matter_concentrate = matter_concentrate.drop(rougher_input_cols, axis=1)\n",
    "\n",
    "matter_concentrate['rougher.output.sum'] = matter_concentrate[rougher_output_cols].sum(axis=1)\n",
    "#matter_concentrate = matter_concentrate.drop(rougher_output_cols, axis=1)\n",
    "\n",
    "matter_concentrate['final.output.sum'] = matter_concentrate[final_output_cols].sum(axis=1)\n",
    "#matter_concentrate = matter_concentrate.drop(final_output_cols, axis=1)"
   ]
  },
  {
   "cell_type": "markdown",
   "id": "58fe3f68",
   "metadata": {},
   "source": [
    "Теперь получим статистики по каждому из столбцом-сумм получившегося датафрейма и визуализируем распределение с помощью ящиков с усами:"
   ]
  },
  {
   "cell_type": "code",
   "execution_count": null,
   "id": "130348dc",
   "metadata": {},
   "outputs": [],
   "source": [
    "matter_concentrate[['rougher.input.sum', 'rougher.output.sum', 'final.output.sum']].describe()"
   ]
  },
  {
   "cell_type": "code",
   "execution_count": null,
   "id": "ff759505",
   "metadata": {},
   "outputs": [],
   "source": [
    "fig = make_subplots(rows=1, cols=3)\n",
    "\n",
    "fig.append_trace(go.Box(\n",
    "   y=matter_concentrate['rougher.input.sum'].tolist(),\n",
    "   name='Вещества в сырье',\n",
    "   boxmean=True,\n",
    "), row=1, col=1)\n",
    "\n",
    "fig.append_trace(go.Box(\n",
    "   y=matter_concentrate['rougher.output.sum'].tolist(),\n",
    "   name='Вещества в черн. концентрате',\n",
    "   boxmean=True, \n",
    "), row=1, col=2)\n",
    "\n",
    "fig.append_trace(go.Box(\n",
    "   y=matter_concentrate['final.output.sum'].tolist(),\n",
    "   name='Вещества в фин. концентрате',\n",
    "   boxmean=True, \n",
    "), row=1, col=3)\n",
    "\n",
    "fig.update_yaxes(range=[35,90])\n",
    "fig.update_layout(title_text='Распределения суммарной концентрации веществ на разных стадиях')\n",
    "fig.show()"
   ]
  },
  {
   "cell_type": "markdown",
   "id": "a3e45d0c",
   "metadata": {},
   "source": [
    "Как видно, медианная суммарная концентрация веществ вырастает от сырья к черновому концентрату, оставаясь примерно на том же уровне в финальном концентрате. Рост медианы и среднего от этапа сырья к этапу чернового концентрата вызваны процессом обогащения. Данные несколько скошены влево (особенно в случае с распределением для чернового концентрата) с большим числом выбросов снизу от конца усов. Величина межквартильного размаха значений для сырья и чернового концентрата примерно совпадают (в районе 9), явным образом сужаясь в финальном концентрате (в районе 3). Межквартильный размах на этом этапе вкладывается в межквартильный размах в предыдущем - видно, как после очисток чернового концентрата медиана и среднее остались примерно теми же, а размах сократился почти троекратно. Скорее всего, сужение это происходит засчет уменьшения концентрации всех веществ, кроме золота, что является основной целью всего процесса флотации и очистки. "
   ]
  },
  {
   "cell_type": "markdown",
   "id": "eb67eac6",
   "metadata": {},
   "source": [
    "Для более детальной оценки ситуации с аномалиями дополнительно посмотрим гистограммы для соответствующих признаков, кроме того, дополнительно визуализируем распределение горизонтальными ящиками с усами над графиком:"
   ]
  },
  {
   "cell_type": "code",
   "execution_count": null,
   "id": "7c7dfb77",
   "metadata": {},
   "outputs": [],
   "source": [
    "import plotly.express as px\n",
    "df = px.data.tips()\n",
    "fig = px.histogram(matter_concentrate, x=['rougher.input.sum', 'rougher.output.sum', 'final.output.sum'],\n",
    "                  title='Гистограммы распределений суммарной концентрации веществ на разных стадиях', \n",
    "                  marginal='box')\n",
    "fig.show()"
   ]
  },
  {
   "cell_type": "markdown",
   "id": "ab16c236",
   "metadata": {},
   "source": [
    "Как видим, в нуле образовался столбик аномалий для всех трех признаков со значениями 0 и 0.04. Удалим соответствующие значения из нашего обучающего набора, для чего сначала соберем их в новый датафрейм:"
   ]
  },
  {
   "cell_type": "code",
   "execution_count": null,
   "id": "3a986a2d",
   "metadata": {},
   "outputs": [],
   "source": [
    "matter_concentrate_outliers = matter_concentrate[(matter_concentrate['rougher.input.sum'] <= 0.04) | \n",
    "                                                 (matter_concentrate['rougher.output.sum'] <= 0.04) | \n",
    "                                                 (matter_concentrate['final.output.sum'] <= 0.04)]"
   ]
  },
  {
   "cell_type": "markdown",
   "id": "e6b5b680",
   "metadata": {},
   "source": [
    "И затем удалим строки в обучающей выборке, совпадающие по индексам со строками в \"аномальном\" датафрейме\":"
   ]
  },
  {
   "cell_type": "code",
   "execution_count": null,
   "id": "9b12dc33",
   "metadata": {
    "scrolled": false
   },
   "outputs": [],
   "source": [
    "gold_recovery_train = gold_recovery_train.drop(gold_recovery_train.loc[matter_concentrate_outliers.index].index, axis=0)"
   ]
  },
  {
   "cell_type": "markdown",
   "id": "0f6ae410",
   "metadata": {},
   "source": [
    "## 3. Построение модели"
   ]
  },
  {
   "cell_type": "markdown",
   "id": "82468448",
   "metadata": {},
   "source": [
    "### 3.1 Функция для рассчета sMAPE"
   ]
  },
  {
   "cell_type": "markdown",
   "id": "287bb01e",
   "metadata": {},
   "source": [
    "Напишем функцию, с помощью которой сможем посчитать симметричное среднее абсолютное процентное отклонение (sMAPE) для двух объектов pandas Series. Поделим модуль разности этих объектов на среднее суммы их модулей, затем вычислим среднее получившегося объекта и умножим на 100, чтобы получить результат в процентах: "
   ]
  },
  {
   "cell_type": "code",
   "execution_count": null,
   "id": "91f737d1",
   "metadata": {},
   "outputs": [],
   "source": [
    "def smape (target, predicted):\n",
    "    return (abs(target - predicted) / ((abs(target) + abs(predicted)) / 2)).mean() * 100"
   ]
  },
  {
   "cell_type": "markdown",
   "id": "f874f70d",
   "metadata": {},
   "source": [
    "### 3.2 Обучение моделей"
   ]
  },
  {
   "cell_type": "markdown",
   "id": "65933307",
   "metadata": {},
   "source": [
    "На финальном этапе работы нам необходимо предсказать параметры rougher.output.recovery и final.output.recovery по данным, которыми мы располагаем до начала этапа флотации, то есть, по параметрам сырья (rougher.input.). При этом, обучать модель на тренировочных данных мы можем только по тем параметрам, которые есть в тестовой выборке. Принимая во внимание эти ограничения, создадим список подходящих для обучения моделей параметров:"
   ]
  },
  {
   "cell_type": "code",
   "execution_count": null,
   "id": "c6381b2d",
   "metadata": {},
   "outputs": [],
   "source": [
    "feature_cols = ['rougher.input.feed_ag', 'rougher.input.feed_pb', 'rougher.input.feed_rate',\n",
    "       'rougher.input.feed_size', 'rougher.input.feed_sol', 'rougher.input.feed_au', 'rougher.input.floatbank10_sulfate',\n",
    "       'rougher.input.floatbank10_xanthate','rougher.input.floatbank11_sulfate', 'rougher.input.floatbank11_xanthate']"
   ]
  },
  {
   "cell_type": "markdown",
   "id": "7d860998",
   "metadata": {},
   "source": [
    "Теперь добавим в тестовую выборку целевые признаки:"
   ]
  },
  {
   "cell_type": "code",
   "execution_count": null,
   "id": "71a1087c",
   "metadata": {},
   "outputs": [],
   "source": [
    "gold_recovery_test['rougher.output.recovery'] = gold_recovery_full.loc[gold_recovery_test.index, 'rougher.output.recovery']\n",
    "gold_recovery_test['final.output.recovery'] = gold_recovery_full.loc[gold_recovery_test.index, 'final.output.recovery']"
   ]
  },
  {
   "cell_type": "markdown",
   "id": "f116fda4",
   "metadata": {},
   "source": [
    "Разделим наши выборки:"
   ]
  },
  {
   "cell_type": "code",
   "execution_count": null,
   "id": "a5a14b0d",
   "metadata": {},
   "outputs": [],
   "source": [
    "features_train = gold_recovery_train[feature_cols]\n",
    "target_train_rougher = gold_recovery_train['rougher.output.recovery']\n",
    "target_train_final = gold_recovery_train['final.output.recovery']\n",
    "\n",
    "features_test = gold_recovery_test[feature_cols]\n",
    "target_test_rougher = gold_recovery_test['rougher.output.recovery']\n",
    "target_test_final = gold_recovery_test['final.output.recovery']"
   ]
  },
  {
   "cell_type": "markdown",
   "id": "e8d23d5a",
   "metadata": {},
   "source": [
    "Начнем обучение с **линейной регрессии**. Чтобы сразу оценивать качество модели с помощью метрики sMAPE воспользуемся инструментом make_scorer библиотеку sklearn. Не забудем, что greater_is_better=False умножает метрику на -1, поэтому оценивать результаты валидации будем по модулю:"
   ]
  },
  {
   "cell_type": "code",
   "execution_count": null,
   "id": "506b32b0",
   "metadata": {},
   "outputs": [],
   "source": [
    "smape_scorer = make_scorer(smape, greater_is_better=False)"
   ]
  },
  {
   "cell_type": "code",
   "execution_count": null,
   "id": "0ab7d9f2",
   "metadata": {},
   "outputs": [],
   "source": [
    "model = LinearRegression()\n",
    "print(abs(cross_val_score(model, features_train, target_train_rougher, scoring=smape_scorer, cv=5).mean()))\n",
    "print(abs(cross_val_score(model, features_train, target_train_final, scoring=smape_scorer, cv=5).mean()))"
   ]
  },
  {
   "cell_type": "markdown",
   "id": "2745c33d",
   "metadata": {},
   "source": [
    "Средняя метрика после кросс-валидации для модели линейной регрессии, предсказывающей целевой признак эффективности обогащения чернового концентрата, равна 6.55, для эффективности обогащения финального концентрата - 9.49. "
   ]
  },
  {
   "cell_type": "markdown",
   "id": "311d455d",
   "metadata": {},
   "source": [
    "Теперь подберем параметры и посчитаем метрики для модели **решающего дерева**:"
   ]
  },
  {
   "cell_type": "code",
   "execution_count": null,
   "id": "16720ad8",
   "metadata": {},
   "outputs": [],
   "source": [
    "model = DecisionTreeRegressor()\n",
    "parameters = {'random_state' : [12345],\n",
    "              'max_depth': range(1, 11)}\n",
    "grid = GridSearchCV(model, parameters, scoring=smape_scorer, cv=5)"
   ]
  },
  {
   "cell_type": "markdown",
   "id": "42dd86b4",
   "metadata": {},
   "source": [
    "Выведем лучшие гиперпараметры после гридсерча и среднюю метрику sMAPE по итогам кросс-валидации для двух целевых параметров:"
   ]
  },
  {
   "cell_type": "code",
   "execution_count": null,
   "id": "215c374f",
   "metadata": {},
   "outputs": [],
   "source": [
    "grid.fit(features_train, target_train_rougher)\n",
    "print(grid.best_params_)\n",
    "print(abs(grid.best_score_))"
   ]
  },
  {
   "cell_type": "code",
   "execution_count": null,
   "id": "e68d409e",
   "metadata": {},
   "outputs": [],
   "source": [
    "grid.fit(features_train, target_train_final)\n",
    "print(grid.best_params_)\n",
    "print(abs(grid.best_score_))"
   ]
  },
  {
   "cell_type": "markdown",
   "id": "e5dab301",
   "metadata": {},
   "source": [
    "Итак, наилучший гиперпараметр max_depth в случае предсказания для чернового концентрата - 4, среднее значение sMAPE - 6.45. В случае с предсказанием для финального концентрата значение глубины - 1, среднее sMAPE - 9.61."
   ]
  },
  {
   "cell_type": "markdown",
   "id": "3555e134",
   "metadata": {},
   "source": [
    "Ту же процедуру проведем для модели **случайного леса**:"
   ]
  },
  {
   "cell_type": "code",
   "execution_count": null,
   "id": "f14580dc",
   "metadata": {},
   "outputs": [],
   "source": [
    "model = RandomForestRegressor()\n",
    "parameters = {'random_state' : [12345],\n",
    "              'n_estimators': range(10, 51, 10),\n",
    "              'max_depth': range(1, 13, 2),}\n",
    "grid = GridSearchCV(model, parameters, scoring=smape_scorer, cv=5)"
   ]
  },
  {
   "cell_type": "code",
   "execution_count": null,
   "id": "85d8e708",
   "metadata": {},
   "outputs": [],
   "source": [
    "grid.fit(features_train, target_train_rougher)\n",
    "print(grid.best_params_)\n",
    "print(abs(grid.best_score_))"
   ]
  },
  {
   "cell_type": "code",
   "execution_count": null,
   "id": "c9b3b935",
   "metadata": {},
   "outputs": [],
   "source": [
    "grid.fit(features_train, target_train_final)\n",
    "print(grid.best_params_)\n",
    "print(abs(grid.best_score_))"
   ]
  },
  {
   "cell_type": "markdown",
   "id": "a6d67c31",
   "metadata": {},
   "source": [
    "Как видим, наилучшие гиперпараметры для предсказания чернового концентрата: n_estimators - 10, max_depth - 9. Среднее значений sMAPE после кросс-валидации - 6.37. А для предсказания финального концентрата: n_estimators - 20, max_depth - 5, среднее sMAPE - 9.31."
   ]
  },
  {
   "cell_type": "markdown",
   "id": "f886d065",
   "metadata": {},
   "source": [
    "По итогу обучения можем сказать, что наилучшая модель для предсказания эффективности обогащения чернового и финального концентратов - случайный лес для обоих целевых признаков."
   ]
  },
  {
   "cell_type": "markdown",
   "id": "68c0ec8e",
   "metadata": {},
   "source": [
    "Теперь проведем проверку лучших моделей на тестовой выборке. Начнем с предсказания чернового концентрата:"
   ]
  },
  {
   "cell_type": "code",
   "execution_count": null,
   "id": "bb73b7fa",
   "metadata": {},
   "outputs": [],
   "source": [
    "model = RandomForestRegressor(n_estimators=10, max_depth=9, random_state=12345)\n",
    "model.fit(features_train, target_train_rougher)\n",
    "predictions_rougher = model.predict(features_test)\n",
    "smape_rougher = smape(target_test_rougher, predictions_rougher)\n",
    "\n",
    "model = RandomForestRegressor(n_estimators=20, max_depth=5, random_state=12345)\n",
    "model.fit(features_train, target_train_final)\n",
    "predictions_final = model.predict(features_test)\n",
    "smape_final = smape(target_test_final, predictions_final)"
   ]
  },
  {
   "cell_type": "markdown",
   "id": "c1ee0e36",
   "metadata": {},
   "source": [
    "Выведем значение метрик sMAPE для черного и финального концентратов тестовой выборки:"
   ]
  },
  {
   "cell_type": "code",
   "execution_count": null,
   "id": "14623742",
   "metadata": {},
   "outputs": [],
   "source": [
    "print(smape_rougher, smape_final)"
   ]
  },
  {
   "cell_type": "markdown",
   "id": "63d03972",
   "metadata": {},
   "source": [
    "Как видим, на тестовой выборке удалось достичь следующих значений: 8.22 для чернового концентрата и 9.29 для финального."
   ]
  },
  {
   "cell_type": "markdown",
   "id": "541b0f91",
   "metadata": {},
   "source": [
    "Посчитаем итоговое симметричное среднее абсолютное процентное отклонение:"
   ]
  },
  {
   "cell_type": "code",
   "execution_count": null,
   "id": "b9d3355e",
   "metadata": {},
   "outputs": [],
   "source": [
    "0.25 * smape_rougher + 0.75 * smape_final"
   ]
  },
  {
   "cell_type": "markdown",
   "id": "3cec16d3",
   "metadata": {},
   "source": [
    "Итак, итоговое значение метрики sMAPE - 9.02, проведем проверку модели на адекватность с помощью sklearn.dummy.DummyRegressor:"
   ]
  },
  {
   "cell_type": "code",
   "execution_count": null,
   "id": "f7a54fbd",
   "metadata": {},
   "outputs": [],
   "source": [
    "dummy_model = DummyRegressor(strategy=\"mean\")\n",
    "dummy_model.fit(features_train, target_train_rougher)\n",
    "dummy_predictions_rougher = dummy_model.predict(features_test)\n",
    "dummy_smape_rougher = smape(target_test_rougher, dummy_predictions_rougher)\n",
    "\n",
    "dummy_model = DummyRegressor(strategy=\"mean\")\n",
    "dummy_model.fit(features_train, target_train_final)\n",
    "dummy_predictions_final = dummy_model.predict(features_test)\n",
    "dummy_smape_final = smape(target_test_final, dummy_predictions_final)"
   ]
  },
  {
   "cell_type": "markdown",
   "id": "f6f0e03e",
   "metadata": {},
   "source": [
    "Выведем метрику sMAPE, оценивающую предсказания DummyRegressor для чернового и финального концентрата:"
   ]
  },
  {
   "cell_type": "code",
   "execution_count": null,
   "id": "d1e857eb",
   "metadata": {},
   "outputs": [],
   "source": [
    "print(dummy_smape_rougher, dummy_smape_final)"
   ]
  },
  {
   "cell_type": "markdown",
   "id": "4b9daaaa",
   "metadata": {},
   "source": [
    "Значения метрики несколько ухудшились, 9.07 для чернового концентрата и 10.08 для финального. Посчитаем итоговую sMAPE:"
   ]
  },
  {
   "cell_type": "code",
   "execution_count": null,
   "id": "7b7f2e33",
   "metadata": {
    "scrolled": true
   },
   "outputs": [],
   "source": [
    "0.25 * dummy_smape_rougher + 0.75 * dummy_smape_final"
   ]
  },
  {
   "cell_type": "markdown",
   "id": "b954551a",
   "metadata": {},
   "source": [
    "Итоговая метрика составила 9.83, что несколько выше метрики модели случайного леса для регрессии, которая составляла 9.02. Вероятно, есть другие модели, более подходящие для этой задачи, которые дадут более ощутимую разницу в оценке предсказательной силы. В любом случае, наша модель случайного леса все еще справляется со своей задачей несколько лучше, чем дамми-модель регрессии. "
   ]
  },
  {
   "cell_type": "markdown",
   "id": "f597f292",
   "metadata": {},
   "source": [
    "В рамках данного исследования мы готовили прототип модели машинного обучения для компании «Цифра». <br>\n",
    "На первом этапе мы ознакомились с имеющимися данными по процессу получения золота из руды, оценили типы данных, число пропусков, наличие дубликатов. Провели соответствующую обработку. Затем мы оценили расчет эффективности обогащения для чернового сырья и проанализировали состав тестовой выборки.<br>\n",
    "Второй этап состоял из анализа некоторых особенностей наших данных. Сперва мы оценили изменение концентрации каждого металла по ходу очистки, затем сравнили распределения размеров гранул сырья на обучающей и тестовой выборках, что было важно сделать для того, чтобы убедиться в адекватности дальнейшей работы моделей машинного обучения. Наконец, мы исследовали суммарную концентрацию всех веществ в сырье, черновом и финальном концентратах.<br>\n",
    "Третий этап включал в себя работу с моделями. Начали мы с написания функции подсчета метрики sMAPE, которую в дальнейшем использовали для оценки предсказаний модели. Затем, пользуясь гридсерчем и кроссвалидацией, мы провели подбор гиперпараметров и обучение моделей линейной регрессии, решающего дерева и случайного леса. В финале исследования мы осуществили предсказание целевых признаков на тестовой выборке и рассчитали итоговое значение sMAPE. "
   ]
  }
 ],
 "metadata": {
  "ExecuteTimeLog": [
   {
    "duration": 3626,
    "start_time": "2023-01-10T20:48:23.174Z"
   },
   {
    "duration": 739,
    "start_time": "2023-01-10T20:48:26.803Z"
   },
   {
    "duration": 3,
    "start_time": "2023-01-10T20:48:27.543Z"
   },
   {
    "duration": 174,
    "start_time": "2023-01-10T20:48:27.548Z"
   },
   {
    "duration": 237,
    "start_time": "2023-01-10T20:48:27.723Z"
   },
   {
    "duration": 8,
    "start_time": "2023-01-10T20:48:27.961Z"
   },
   {
    "duration": 16,
    "start_time": "2023-01-10T20:48:27.971Z"
   },
   {
    "duration": 33,
    "start_time": "2023-01-10T20:48:27.989Z"
   },
   {
    "duration": 4185,
    "start_time": "2023-01-10T20:48:28.023Z"
   },
   {
    "duration": 4041,
    "start_time": "2023-01-10T20:48:32.211Z"
   },
   {
    "duration": 2886,
    "start_time": "2023-01-10T20:48:36.253Z"
   },
   {
    "duration": 3,
    "start_time": "2023-01-10T20:48:39.141Z"
   },
   {
    "duration": 59,
    "start_time": "2023-01-10T20:48:39.146Z"
   },
   {
    "duration": 15,
    "start_time": "2023-01-10T20:48:39.207Z"
   },
   {
    "duration": 155,
    "start_time": "2023-01-10T20:48:39.224Z"
   },
   {
    "duration": 708,
    "start_time": "2023-01-10T20:48:39.381Z"
   },
   {
    "duration": 620,
    "start_time": "2023-01-10T20:48:40.090Z"
   },
   {
    "duration": 557,
    "start_time": "2023-01-10T20:48:40.711Z"
   },
   {
    "duration": 11,
    "start_time": "2023-01-10T20:48:41.269Z"
   },
   {
    "duration": 2,
    "start_time": "2023-01-10T20:48:41.282Z"
   },
   {
    "duration": 6,
    "start_time": "2023-01-10T20:48:41.286Z"
   },
   {
    "duration": 8,
    "start_time": "2023-01-10T20:48:41.293Z"
   },
   {
    "duration": 22,
    "start_time": "2023-01-10T20:48:41.302Z"
   },
   {
    "duration": 3,
    "start_time": "2023-01-10T20:48:41.325Z"
   },
   {
    "duration": 6,
    "start_time": "2023-01-10T20:48:41.330Z"
   },
   {
    "duration": 23,
    "start_time": "2023-01-10T20:48:41.337Z"
   },
   {
    "duration": 1142,
    "start_time": "2023-01-10T20:48:41.362Z"
   },
   {
    "duration": 23,
    "start_time": "2023-01-10T20:49:06.603Z"
   },
   {
    "duration": 625,
    "start_time": "2023-01-10T20:49:06.809Z"
   },
   {
    "duration": 25,
    "start_time": "2023-01-10T20:49:16.844Z"
   },
   {
    "duration": 521,
    "start_time": "2023-01-10T20:49:17.640Z"
   },
   {
    "duration": 4,
    "start_time": "2023-01-10T20:50:28.611Z"
   },
   {
    "duration": 151,
    "start_time": "2023-01-10T20:50:29.526Z"
   },
   {
    "duration": 4,
    "start_time": "2023-01-10T20:51:12.929Z"
   },
   {
    "duration": 16,
    "start_time": "2023-01-10T20:51:14.355Z"
   },
   {
    "duration": 19,
    "start_time": "2023-01-10T20:51:15.279Z"
   },
   {
    "duration": 334,
    "start_time": "2023-01-10T20:51:15.950Z"
   },
   {
    "duration": 3,
    "start_time": "2023-01-10T20:53:48.964Z"
   },
   {
    "duration": 3,
    "start_time": "2023-01-10T20:53:50.036Z"
   },
   {
    "duration": 5,
    "start_time": "2023-01-10T20:54:01.510Z"
   },
   {
    "duration": 6,
    "start_time": "2023-01-10T20:54:07.826Z"
   },
   {
    "duration": 5045,
    "start_time": "2023-01-11T17:56:53.000Z"
   },
   {
    "duration": 835,
    "start_time": "2023-01-11T17:56:58.047Z"
   },
   {
    "duration": 2,
    "start_time": "2023-01-11T17:56:58.884Z"
   },
   {
    "duration": 159,
    "start_time": "2023-01-11T17:56:58.888Z"
   },
   {
    "duration": 256,
    "start_time": "2023-01-11T17:56:59.049Z"
   },
   {
    "duration": 10,
    "start_time": "2023-01-11T17:56:59.307Z"
   },
   {
    "duration": 16,
    "start_time": "2023-01-11T17:56:59.319Z"
   },
   {
    "duration": 22,
    "start_time": "2023-01-11T17:56:59.337Z"
   },
   {
    "duration": 4456,
    "start_time": "2023-01-11T17:56:59.361Z"
   },
   {
    "duration": 4254,
    "start_time": "2023-01-11T17:57:03.820Z"
   },
   {
    "duration": 2851,
    "start_time": "2023-01-11T17:57:08.076Z"
   },
   {
    "duration": 4,
    "start_time": "2023-01-11T17:57:10.928Z"
   },
   {
    "duration": 177,
    "start_time": "2023-01-11T17:57:10.933Z"
   },
   {
    "duration": 3,
    "start_time": "2023-01-11T17:57:11.112Z"
   },
   {
    "duration": 167,
    "start_time": "2023-01-11T17:57:11.117Z"
   },
   {
    "duration": 635,
    "start_time": "2023-01-11T17:57:11.286Z"
   },
   {
    "duration": 620,
    "start_time": "2023-01-11T17:57:11.922Z"
   },
   {
    "duration": 682,
    "start_time": "2023-01-11T17:57:12.544Z"
   },
   {
    "duration": 10,
    "start_time": "2023-01-11T17:57:13.228Z"
   },
   {
    "duration": 25,
    "start_time": "2023-01-11T17:57:13.240Z"
   },
   {
    "duration": 12,
    "start_time": "2023-01-11T17:57:13.267Z"
   },
   {
    "duration": 32,
    "start_time": "2023-01-11T17:57:13.281Z"
   },
   {
    "duration": 22,
    "start_time": "2023-01-11T17:57:13.315Z"
   },
   {
    "duration": 27,
    "start_time": "2023-01-11T17:57:13.339Z"
   },
   {
    "duration": 12,
    "start_time": "2023-01-11T17:57:13.368Z"
   },
   {
    "duration": 32,
    "start_time": "2023-01-11T17:57:13.382Z"
   },
   {
    "duration": 1175,
    "start_time": "2023-01-11T17:57:13.416Z"
   },
   {
    "duration": 30,
    "start_time": "2023-01-11T17:57:14.594Z"
   },
   {
    "duration": 892,
    "start_time": "2023-01-11T17:57:14.625Z"
   },
   {
    "duration": 60,
    "start_time": "2023-01-11T17:57:15.520Z"
   },
   {
    "duration": 733,
    "start_time": "2023-01-11T17:57:15.582Z"
   },
   {
    "duration": 4,
    "start_time": "2023-01-11T18:10:13.396Z"
   },
   {
    "duration": 157,
    "start_time": "2023-01-11T18:10:14.194Z"
   },
   {
    "duration": 4,
    "start_time": "2023-01-11T18:10:19.245Z"
   },
   {
    "duration": 14,
    "start_time": "2023-01-11T18:10:20.981Z"
   },
   {
    "duration": 19,
    "start_time": "2023-01-11T18:10:21.786Z"
   },
   {
    "duration": 334,
    "start_time": "2023-01-11T18:10:22.283Z"
   },
   {
    "duration": 575,
    "start_time": "2023-01-11T18:10:28.675Z"
   },
   {
    "duration": 5,
    "start_time": "2023-01-11T18:11:24.473Z"
   },
   {
    "duration": 145,
    "start_time": "2023-01-11T18:11:29.867Z"
   },
   {
    "duration": 13,
    "start_time": "2023-01-11T18:11:37.059Z"
   }
  ],
  "kernelspec": {
   "display_name": "Python 3 (ipykernel)",
   "language": "python",
   "name": "python3"
  },
  "language_info": {
   "codemirror_mode": {
    "name": "ipython",
    "version": 3
   },
   "file_extension": ".py",
   "mimetype": "text/x-python",
   "name": "python",
   "nbconvert_exporter": "python",
   "pygments_lexer": "ipython3",
   "version": "3.9.13"
  },
  "toc": {
   "base_numbering": 1,
   "nav_menu": {},
   "number_sections": true,
   "sideBar": true,
   "skip_h1_title": true,
   "title_cell": "Table of Contents",
   "title_sidebar": "Contents",
   "toc_cell": false,
   "toc_position": {},
   "toc_section_display": true,
   "toc_window_display": false
  }
 },
 "nbformat": 4,
 "nbformat_minor": 5
}
